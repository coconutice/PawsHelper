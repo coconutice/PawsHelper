{
  "nbformat": 4,
  "nbformat_minor": 0,
  "metadata": {
    "colab": {
      "name": "01_data_join_clean.ipynb",
      "provenance": [],
      "collapsed_sections": []
    },
    "kernelspec": {
      "name": "python3",
      "display_name": "Python 3"
    },
    "language_info": {
      "name": "python"
    }
  },
  "cells": [
    {
      "cell_type": "markdown",
      "metadata": {
        "id": "Grs6j8bkcQns"
      },
      "source": [
        "# [Internal Only] CSE6242 Team 11 Colab\n",
        "## This colab is used to join/clean/analysis our data\n",
        "\n"
      ]
    },
    {
      "cell_type": "code",
      "metadata": {
        "id": "s5MbjO-pd893"
      },
      "source": [
        "%rm -rf PawsHelper"
      ],
      "execution_count": 2,
      "outputs": []
    },
    {
      "cell_type": "code",
      "metadata": {
        "colab": {
          "base_uri": "https://localhost:8080/"
        },
        "id": "V3rVI2nWal1z",
        "outputId": "68fa295f-d7f6-47da-cf06-6e162fca01c6"
      },
      "source": [
        "!git clone https://github.com/ChujieChen/PawsHelper.git"
      ],
      "execution_count": 3,
      "outputs": [
        {
          "output_type": "stream",
          "name": "stdout",
          "text": [
            "Cloning into 'PawsHelper'...\n",
            "remote: Enumerating objects: 67, done.\u001b[K\n",
            "remote: Counting objects: 100% (67/67), done.\u001b[K\n",
            "remote: Compressing objects: 100% (49/49), done.\u001b[K\n",
            "remote: Total 67 (delta 26), reused 41 (delta 11), pack-reused 0\u001b[K\n",
            "Unpacking objects: 100% (67/67), done.\n"
          ]
        }
      ]
    },
    {
      "cell_type": "code",
      "metadata": {
        "colab": {
          "base_uri": "https://localhost:8080/"
        },
        "id": "UxahLePZa1Uj",
        "outputId": "9fbdf3fa-a8ca-4a91-dfb5-49f9406c5311"
      },
      "source": [
        "%cd PawsHelper/src"
      ],
      "execution_count": 4,
      "outputs": [
        {
          "output_type": "stream",
          "name": "stdout",
          "text": [
            "/content/PawsHelper/src\n"
          ]
        }
      ]
    },
    {
      "cell_type": "code",
      "metadata": {
        "id": "yCO0PiqsdoqE"
      },
      "source": [
        "import pandas as pd\n",
        "import seaborn as sns\n",
        "import numpy as np"
      ],
      "execution_count": 5,
      "outputs": []
    },
    {
      "cell_type": "code",
      "metadata": {
        "id": "MjwN6Av9eNFD"
      },
      "source": [
        "df_intakes = pd.read_csv(\"../data/Austin_Animal_Center_Intakes.csv\")\n",
        "df_outcomes = pd.read_csv(\"../data/Austin_Animal_Center_Outcomes.csv\")"
      ],
      "execution_count": 6,
      "outputs": []
    },
    {
      "cell_type": "code",
      "metadata": {
        "id": "dVISbQ_QeVlF",
        "colab": {
          "base_uri": "https://localhost:8080/",
          "height": 244
        },
        "outputId": "6e072f61-8568-419f-95d3-ccdaab181c5b"
      },
      "source": [
        "df_intakes.head(3)"
      ],
      "execution_count": 7,
      "outputs": [
        {
          "output_type": "execute_result",
          "data": {
            "text/html": [
              "<div>\n",
              "<style scoped>\n",
              "    .dataframe tbody tr th:only-of-type {\n",
              "        vertical-align: middle;\n",
              "    }\n",
              "\n",
              "    .dataframe tbody tr th {\n",
              "        vertical-align: top;\n",
              "    }\n",
              "\n",
              "    .dataframe thead th {\n",
              "        text-align: right;\n",
              "    }\n",
              "</style>\n",
              "<table border=\"1\" class=\"dataframe\">\n",
              "  <thead>\n",
              "    <tr style=\"text-align: right;\">\n",
              "      <th></th>\n",
              "      <th>Animal ID</th>\n",
              "      <th>Name</th>\n",
              "      <th>DateTime</th>\n",
              "      <th>MonthYear</th>\n",
              "      <th>Found Location</th>\n",
              "      <th>Intake Type</th>\n",
              "      <th>Intake Condition</th>\n",
              "      <th>Animal Type</th>\n",
              "      <th>Sex upon Intake</th>\n",
              "      <th>Age upon Intake</th>\n",
              "      <th>Breed</th>\n",
              "      <th>Color</th>\n",
              "    </tr>\n",
              "  </thead>\n",
              "  <tbody>\n",
              "    <tr>\n",
              "      <th>0</th>\n",
              "      <td>A786884</td>\n",
              "      <td>*Brock</td>\n",
              "      <td>01/03/2019 04:19:00 PM</td>\n",
              "      <td>01/03/2019 04:19:00 PM</td>\n",
              "      <td>2501 Magin Meadow Dr in Austin (TX)</td>\n",
              "      <td>Stray</td>\n",
              "      <td>Normal</td>\n",
              "      <td>Dog</td>\n",
              "      <td>Neutered Male</td>\n",
              "      <td>2 years</td>\n",
              "      <td>Beagle Mix</td>\n",
              "      <td>Tricolor</td>\n",
              "    </tr>\n",
              "    <tr>\n",
              "      <th>1</th>\n",
              "      <td>A706918</td>\n",
              "      <td>Belle</td>\n",
              "      <td>07/05/2015 12:59:00 PM</td>\n",
              "      <td>07/05/2015 12:59:00 PM</td>\n",
              "      <td>9409 Bluegrass Dr in Austin (TX)</td>\n",
              "      <td>Stray</td>\n",
              "      <td>Normal</td>\n",
              "      <td>Dog</td>\n",
              "      <td>Spayed Female</td>\n",
              "      <td>8 years</td>\n",
              "      <td>English Springer Spaniel</td>\n",
              "      <td>White/Liver</td>\n",
              "    </tr>\n",
              "    <tr>\n",
              "      <th>2</th>\n",
              "      <td>A724273</td>\n",
              "      <td>Runster</td>\n",
              "      <td>04/14/2016 06:43:00 PM</td>\n",
              "      <td>04/14/2016 06:43:00 PM</td>\n",
              "      <td>2818 Palomino Trail in Austin (TX)</td>\n",
              "      <td>Stray</td>\n",
              "      <td>Normal</td>\n",
              "      <td>Dog</td>\n",
              "      <td>Intact Male</td>\n",
              "      <td>11 months</td>\n",
              "      <td>Basenji Mix</td>\n",
              "      <td>Sable/White</td>\n",
              "    </tr>\n",
              "  </tbody>\n",
              "</table>\n",
              "</div>"
            ],
            "text/plain": [
              "  Animal ID     Name  ...                     Breed        Color\n",
              "0   A786884   *Brock  ...                Beagle Mix     Tricolor\n",
              "1   A706918    Belle  ...  English Springer Spaniel  White/Liver\n",
              "2   A724273  Runster  ...               Basenji Mix  Sable/White\n",
              "\n",
              "[3 rows x 12 columns]"
            ]
          },
          "metadata": {},
          "execution_count": 7
        }
      ]
    },
    {
      "cell_type": "code",
      "metadata": {
        "colab": {
          "base_uri": "https://localhost:8080/",
          "height": 210
        },
        "id": "jclisoqFLwSa",
        "outputId": "c7380f31-f780-43ed-dcba-e8a736cf1a31"
      },
      "source": [
        "df_outcomes.head(3)"
      ],
      "execution_count": 8,
      "outputs": [
        {
          "output_type": "execute_result",
          "data": {
            "text/html": [
              "<div>\n",
              "<style scoped>\n",
              "    .dataframe tbody tr th:only-of-type {\n",
              "        vertical-align: middle;\n",
              "    }\n",
              "\n",
              "    .dataframe tbody tr th {\n",
              "        vertical-align: top;\n",
              "    }\n",
              "\n",
              "    .dataframe thead th {\n",
              "        text-align: right;\n",
              "    }\n",
              "</style>\n",
              "<table border=\"1\" class=\"dataframe\">\n",
              "  <thead>\n",
              "    <tr style=\"text-align: right;\">\n",
              "      <th></th>\n",
              "      <th>Animal ID</th>\n",
              "      <th>Name</th>\n",
              "      <th>DateTime</th>\n",
              "      <th>MonthYear</th>\n",
              "      <th>Date of Birth</th>\n",
              "      <th>Outcome Type</th>\n",
              "      <th>Outcome Subtype</th>\n",
              "      <th>Animal Type</th>\n",
              "      <th>Sex upon Outcome</th>\n",
              "      <th>Age upon Outcome</th>\n",
              "      <th>Breed</th>\n",
              "      <th>Color</th>\n",
              "    </tr>\n",
              "  </thead>\n",
              "  <tbody>\n",
              "    <tr>\n",
              "      <th>0</th>\n",
              "      <td>A794011</td>\n",
              "      <td>Chunk</td>\n",
              "      <td>05/08/2019 06:20:00 PM</td>\n",
              "      <td>05/08/2019 06:20:00 PM</td>\n",
              "      <td>05/02/2017</td>\n",
              "      <td>Rto-Adopt</td>\n",
              "      <td>NaN</td>\n",
              "      <td>Cat</td>\n",
              "      <td>Neutered Male</td>\n",
              "      <td>2 years</td>\n",
              "      <td>Domestic Shorthair Mix</td>\n",
              "      <td>Brown Tabby/White</td>\n",
              "    </tr>\n",
              "    <tr>\n",
              "      <th>1</th>\n",
              "      <td>A776359</td>\n",
              "      <td>Gizmo</td>\n",
              "      <td>07/18/2018 04:02:00 PM</td>\n",
              "      <td>07/18/2018 04:02:00 PM</td>\n",
              "      <td>07/12/2017</td>\n",
              "      <td>Adoption</td>\n",
              "      <td>NaN</td>\n",
              "      <td>Dog</td>\n",
              "      <td>Neutered Male</td>\n",
              "      <td>1 year</td>\n",
              "      <td>Chihuahua Shorthair Mix</td>\n",
              "      <td>White/Brown</td>\n",
              "    </tr>\n",
              "    <tr>\n",
              "      <th>2</th>\n",
              "      <td>A821648</td>\n",
              "      <td>NaN</td>\n",
              "      <td>08/16/2020 11:38:00 AM</td>\n",
              "      <td>08/16/2020 11:38:00 AM</td>\n",
              "      <td>08/16/2019</td>\n",
              "      <td>Euthanasia</td>\n",
              "      <td>NaN</td>\n",
              "      <td>Other</td>\n",
              "      <td>Unknown</td>\n",
              "      <td>1 year</td>\n",
              "      <td>Raccoon</td>\n",
              "      <td>Gray</td>\n",
              "    </tr>\n",
              "  </tbody>\n",
              "</table>\n",
              "</div>"
            ],
            "text/plain": [
              "  Animal ID   Name  ...                    Breed              Color\n",
              "0   A794011  Chunk  ...   Domestic Shorthair Mix  Brown Tabby/White\n",
              "1   A776359  Gizmo  ...  Chihuahua Shorthair Mix        White/Brown\n",
              "2   A821648    NaN  ...                  Raccoon               Gray\n",
              "\n",
              "[3 rows x 12 columns]"
            ]
          },
          "metadata": {},
          "execution_count": 8
        }
      ]
    },
    {
      "cell_type": "code",
      "metadata": {
        "colab": {
          "base_uri": "https://localhost:8080/"
        },
        "id": "aKSuxPcNYwgn",
        "outputId": "9803fd85-13e4-407c-9f5f-88194afe3a93"
      },
      "source": [
        "df_intakes['Intake Type'].unique()"
      ],
      "execution_count": 9,
      "outputs": [
        {
          "output_type": "execute_result",
          "data": {
            "text/plain": [
              "array(['Stray', 'Owner Surrender', 'Public Assist', 'Wildlife',\n",
              "       'Euthanasia Request', 'Abandoned'], dtype=object)"
            ]
          },
          "metadata": {},
          "execution_count": 9
        }
      ]
    },
    {
      "cell_type": "code",
      "metadata": {
        "colab": {
          "base_uri": "https://localhost:8080/"
        },
        "id": "AdU0Ck8XY9WP",
        "outputId": "858577c8-22e6-4d69-8f03-4fd8a9f4f5fa"
      },
      "source": [
        "df_outcomes['Outcome Type'].unique()"
      ],
      "execution_count": 10,
      "outputs": [
        {
          "output_type": "execute_result",
          "data": {
            "text/plain": [
              "array(['Rto-Adopt', 'Adoption', 'Euthanasia', 'Transfer',\n",
              "       'Return to Owner', 'Died', 'Disposal', 'Missing', 'Relocate', nan],\n",
              "      dtype=object)"
            ]
          },
          "metadata": {},
          "execution_count": 10
        }
      ]
    },
    {
      "cell_type": "markdown",
      "metadata": {
        "id": "IKKpd9k1Mi3v"
      },
      "source": [
        "# Some repetitive `Animal ID`, what do we do?\n",
        "Step1: \n",
        "Vertically stack intakes and outcomes (130k rows + 130k rows = 265k rows)\n",
        "Action_type = intake_type U outcome_type (9 types)\n",
        "其他对于intakes里有而outcomes里没有的column，outcome那列那行为空；反之亦然\n",
        "e.g.\n",
        "Animal ID，datetime, action_type, XXX, XXX, XXX\\\n",
        "A12345, 08/09/2019, intake,           aa,  aa, aa\\\n",
        "A12345, 09/09/2019, outcome,           aa,  aa, aa\\\n",
        "A12345, 10/11/2019, outcome,           aa,  aa, aa\\\n",
        "A12345, 10/12/2019, intake,           aa,  aa, aa\\\n",
        "A12345, 10/15/2019, outcome,           aa,  aa, aa\\\n",
        "A12345, 05/04/2020, intake ,          aa, aa, aa\\\n",
        "\n",
        "上述例子，A12345被两次intake，两次outcome；A23456，只有intake，尚无outcome\n",
        "\n"
      ]
    },
    {
      "cell_type": "code",
      "metadata": {
        "id": "ZwhtlvSbIToe"
      },
      "source": [
        "df_join = df_intakes.append(df_outcomes, sort=False)"
      ],
      "execution_count": 11,
      "outputs": []
    },
    {
      "cell_type": "code",
      "metadata": {
        "id": "4tOO2RbPITuL"
      },
      "source": [
        "mask = df_join['Intake Type'].isna()\n",
        "df_join['action_type'] = \"nan\"\n",
        "df_join['action_type'][mask] = \"outcome\"\n",
        "df_join['action_type'][~mask] = \"intake\"\n"
      ],
      "execution_count": 12,
      "outputs": []
    },
    {
      "cell_type": "code",
      "metadata": {
        "id": "AQMQ7GJOIUHX"
      },
      "source": [
        "df_join = df_join.reset_index(drop=True)"
      ],
      "execution_count": 13,
      "outputs": []
    },
    {
      "cell_type": "code",
      "metadata": {
        "colab": {
          "base_uri": "https://localhost:8080/",
          "height": 949
        },
        "id": "Dpz5XLrSaHFx",
        "outputId": "bdd0b79a-b0fc-4356-87da-70857c47e8b4"
      },
      "source": [
        "df_join"
      ],
      "execution_count": 14,
      "outputs": [
        {
          "output_type": "execute_result",
          "data": {
            "text/html": [
              "<div>\n",
              "<style scoped>\n",
              "    .dataframe tbody tr th:only-of-type {\n",
              "        vertical-align: middle;\n",
              "    }\n",
              "\n",
              "    .dataframe tbody tr th {\n",
              "        vertical-align: top;\n",
              "    }\n",
              "\n",
              "    .dataframe thead th {\n",
              "        text-align: right;\n",
              "    }\n",
              "</style>\n",
              "<table border=\"1\" class=\"dataframe\">\n",
              "  <thead>\n",
              "    <tr style=\"text-align: right;\">\n",
              "      <th></th>\n",
              "      <th>Animal ID</th>\n",
              "      <th>Name</th>\n",
              "      <th>DateTime</th>\n",
              "      <th>MonthYear</th>\n",
              "      <th>Found Location</th>\n",
              "      <th>Intake Type</th>\n",
              "      <th>Intake Condition</th>\n",
              "      <th>Animal Type</th>\n",
              "      <th>Sex upon Intake</th>\n",
              "      <th>Age upon Intake</th>\n",
              "      <th>Breed</th>\n",
              "      <th>Color</th>\n",
              "      <th>Date of Birth</th>\n",
              "      <th>Outcome Type</th>\n",
              "      <th>Outcome Subtype</th>\n",
              "      <th>Sex upon Outcome</th>\n",
              "      <th>Age upon Outcome</th>\n",
              "      <th>action_type</th>\n",
              "    </tr>\n",
              "  </thead>\n",
              "  <tbody>\n",
              "    <tr>\n",
              "      <th>0</th>\n",
              "      <td>A786884</td>\n",
              "      <td>*Brock</td>\n",
              "      <td>01/03/2019 04:19:00 PM</td>\n",
              "      <td>01/03/2019 04:19:00 PM</td>\n",
              "      <td>2501 Magin Meadow Dr in Austin (TX)</td>\n",
              "      <td>Stray</td>\n",
              "      <td>Normal</td>\n",
              "      <td>Dog</td>\n",
              "      <td>Neutered Male</td>\n",
              "      <td>2 years</td>\n",
              "      <td>Beagle Mix</td>\n",
              "      <td>Tricolor</td>\n",
              "      <td>NaN</td>\n",
              "      <td>NaN</td>\n",
              "      <td>NaN</td>\n",
              "      <td>NaN</td>\n",
              "      <td>NaN</td>\n",
              "      <td>intake</td>\n",
              "    </tr>\n",
              "    <tr>\n",
              "      <th>1</th>\n",
              "      <td>A706918</td>\n",
              "      <td>Belle</td>\n",
              "      <td>07/05/2015 12:59:00 PM</td>\n",
              "      <td>07/05/2015 12:59:00 PM</td>\n",
              "      <td>9409 Bluegrass Dr in Austin (TX)</td>\n",
              "      <td>Stray</td>\n",
              "      <td>Normal</td>\n",
              "      <td>Dog</td>\n",
              "      <td>Spayed Female</td>\n",
              "      <td>8 years</td>\n",
              "      <td>English Springer Spaniel</td>\n",
              "      <td>White/Liver</td>\n",
              "      <td>NaN</td>\n",
              "      <td>NaN</td>\n",
              "      <td>NaN</td>\n",
              "      <td>NaN</td>\n",
              "      <td>NaN</td>\n",
              "      <td>intake</td>\n",
              "    </tr>\n",
              "    <tr>\n",
              "      <th>2</th>\n",
              "      <td>A724273</td>\n",
              "      <td>Runster</td>\n",
              "      <td>04/14/2016 06:43:00 PM</td>\n",
              "      <td>04/14/2016 06:43:00 PM</td>\n",
              "      <td>2818 Palomino Trail in Austin (TX)</td>\n",
              "      <td>Stray</td>\n",
              "      <td>Normal</td>\n",
              "      <td>Dog</td>\n",
              "      <td>Intact Male</td>\n",
              "      <td>11 months</td>\n",
              "      <td>Basenji Mix</td>\n",
              "      <td>Sable/White</td>\n",
              "      <td>NaN</td>\n",
              "      <td>NaN</td>\n",
              "      <td>NaN</td>\n",
              "      <td>NaN</td>\n",
              "      <td>NaN</td>\n",
              "      <td>intake</td>\n",
              "    </tr>\n",
              "    <tr>\n",
              "      <th>3</th>\n",
              "      <td>A665644</td>\n",
              "      <td>NaN</td>\n",
              "      <td>10/21/2013 07:59:00 AM</td>\n",
              "      <td>10/21/2013 07:59:00 AM</td>\n",
              "      <td>Austin (TX)</td>\n",
              "      <td>Stray</td>\n",
              "      <td>Sick</td>\n",
              "      <td>Cat</td>\n",
              "      <td>Intact Female</td>\n",
              "      <td>4 weeks</td>\n",
              "      <td>Domestic Shorthair Mix</td>\n",
              "      <td>Calico</td>\n",
              "      <td>NaN</td>\n",
              "      <td>NaN</td>\n",
              "      <td>NaN</td>\n",
              "      <td>NaN</td>\n",
              "      <td>NaN</td>\n",
              "      <td>intake</td>\n",
              "    </tr>\n",
              "    <tr>\n",
              "      <th>4</th>\n",
              "      <td>A682524</td>\n",
              "      <td>Rio</td>\n",
              "      <td>06/29/2014 10:38:00 AM</td>\n",
              "      <td>06/29/2014 10:38:00 AM</td>\n",
              "      <td>800 Grove Blvd in Austin (TX)</td>\n",
              "      <td>Stray</td>\n",
              "      <td>Normal</td>\n",
              "      <td>Dog</td>\n",
              "      <td>Neutered Male</td>\n",
              "      <td>4 years</td>\n",
              "      <td>Doberman Pinsch/Australian Cattle Dog</td>\n",
              "      <td>Tan/Gray</td>\n",
              "      <td>NaN</td>\n",
              "      <td>NaN</td>\n",
              "      <td>NaN</td>\n",
              "      <td>NaN</td>\n",
              "      <td>NaN</td>\n",
              "      <td>intake</td>\n",
              "    </tr>\n",
              "    <tr>\n",
              "      <th>...</th>\n",
              "      <td>...</td>\n",
              "      <td>...</td>\n",
              "      <td>...</td>\n",
              "      <td>...</td>\n",
              "      <td>...</td>\n",
              "      <td>...</td>\n",
              "      <td>...</td>\n",
              "      <td>...</td>\n",
              "      <td>...</td>\n",
              "      <td>...</td>\n",
              "      <td>...</td>\n",
              "      <td>...</td>\n",
              "      <td>...</td>\n",
              "      <td>...</td>\n",
              "      <td>...</td>\n",
              "      <td>...</td>\n",
              "      <td>...</td>\n",
              "      <td>...</td>\n",
              "    </tr>\n",
              "    <tr>\n",
              "      <th>265405</th>\n",
              "      <td>A843114</td>\n",
              "      <td>A843114</td>\n",
              "      <td>10/20/2021 06:02:00 PM</td>\n",
              "      <td>10/20/2021 06:02:00 PM</td>\n",
              "      <td>NaN</td>\n",
              "      <td>NaN</td>\n",
              "      <td>NaN</td>\n",
              "      <td>Cat</td>\n",
              "      <td>NaN</td>\n",
              "      <td>NaN</td>\n",
              "      <td>Domestic Shorthair</td>\n",
              "      <td>Torbie</td>\n",
              "      <td>09/27/2019</td>\n",
              "      <td>Transfer</td>\n",
              "      <td>Partner</td>\n",
              "      <td>Spayed Female</td>\n",
              "      <td>2 years</td>\n",
              "      <td>outcome</td>\n",
              "    </tr>\n",
              "    <tr>\n",
              "      <th>265406</th>\n",
              "      <td>A844350</td>\n",
              "      <td>*Ella</td>\n",
              "      <td>10/20/2021 06:51:00 PM</td>\n",
              "      <td>10/20/2021 06:51:00 PM</td>\n",
              "      <td>NaN</td>\n",
              "      <td>NaN</td>\n",
              "      <td>NaN</td>\n",
              "      <td>Cat</td>\n",
              "      <td>NaN</td>\n",
              "      <td>NaN</td>\n",
              "      <td>Domestic Shorthair</td>\n",
              "      <td>Brown Tabby</td>\n",
              "      <td>04/15/2021</td>\n",
              "      <td>Adoption</td>\n",
              "      <td>NaN</td>\n",
              "      <td>Spayed Female</td>\n",
              "      <td>6 months</td>\n",
              "      <td>outcome</td>\n",
              "    </tr>\n",
              "    <tr>\n",
              "      <th>265407</th>\n",
              "      <td>A844415</td>\n",
              "      <td>A844415</td>\n",
              "      <td>10/20/2021 06:01:00 PM</td>\n",
              "      <td>10/20/2021 06:01:00 PM</td>\n",
              "      <td>NaN</td>\n",
              "      <td>NaN</td>\n",
              "      <td>NaN</td>\n",
              "      <td>Cat</td>\n",
              "      <td>NaN</td>\n",
              "      <td>NaN</td>\n",
              "      <td>Domestic Shorthair Mix</td>\n",
              "      <td>Silver Tabby</td>\n",
              "      <td>07/31/2021</td>\n",
              "      <td>Adoption</td>\n",
              "      <td>NaN</td>\n",
              "      <td>Spayed Female</td>\n",
              "      <td>2 months</td>\n",
              "      <td>outcome</td>\n",
              "    </tr>\n",
              "    <tr>\n",
              "      <th>265408</th>\n",
              "      <td>A844004</td>\n",
              "      <td>*Lestat</td>\n",
              "      <td>10/20/2021 06:39:00 PM</td>\n",
              "      <td>10/20/2021 06:39:00 PM</td>\n",
              "      <td>NaN</td>\n",
              "      <td>NaN</td>\n",
              "      <td>NaN</td>\n",
              "      <td>Dog</td>\n",
              "      <td>NaN</td>\n",
              "      <td>NaN</td>\n",
              "      <td>Siberian Husky</td>\n",
              "      <td>Black/White</td>\n",
              "      <td>05/10/2020</td>\n",
              "      <td>Adoption</td>\n",
              "      <td>NaN</td>\n",
              "      <td>Neutered Male</td>\n",
              "      <td>1 year</td>\n",
              "      <td>outcome</td>\n",
              "    </tr>\n",
              "    <tr>\n",
              "      <th>265409</th>\n",
              "      <td>A844818</td>\n",
              "      <td>Smokey</td>\n",
              "      <td>10/20/2021 06:40:00 PM</td>\n",
              "      <td>10/20/2021 06:40:00 PM</td>\n",
              "      <td>NaN</td>\n",
              "      <td>NaN</td>\n",
              "      <td>NaN</td>\n",
              "      <td>Cat</td>\n",
              "      <td>NaN</td>\n",
              "      <td>NaN</td>\n",
              "      <td>Domestic Shorthair</td>\n",
              "      <td>Gray Tabby</td>\n",
              "      <td>10/20/2019</td>\n",
              "      <td>Return to Owner</td>\n",
              "      <td>NaN</td>\n",
              "      <td>Intact Male</td>\n",
              "      <td>2 years</td>\n",
              "      <td>outcome</td>\n",
              "    </tr>\n",
              "  </tbody>\n",
              "</table>\n",
              "<p>265410 rows × 18 columns</p>\n",
              "</div>"
            ],
            "text/plain": [
              "       Animal ID     Name  ... Age upon Outcome action_type\n",
              "0        A786884   *Brock  ...              NaN      intake\n",
              "1        A706918    Belle  ...              NaN      intake\n",
              "2        A724273  Runster  ...              NaN      intake\n",
              "3        A665644      NaN  ...              NaN      intake\n",
              "4        A682524      Rio  ...              NaN      intake\n",
              "...          ...      ...  ...              ...         ...\n",
              "265405   A843114  A843114  ...          2 years     outcome\n",
              "265406   A844350    *Ella  ...         6 months     outcome\n",
              "265407   A844415  A844415  ...         2 months     outcome\n",
              "265408   A844004  *Lestat  ...           1 year     outcome\n",
              "265409   A844818   Smokey  ...          2 years     outcome\n",
              "\n",
              "[265410 rows x 18 columns]"
            ]
          },
          "metadata": {},
          "execution_count": 14
        }
      ]
    },
    {
      "cell_type": "code",
      "metadata": {
        "colab": {
          "base_uri": "https://localhost:8080/"
        },
        "id": "0B7kbHnJaTmn",
        "outputId": "d9538a8b-35e3-4533-993d-2344c20025b9"
      },
      "source": [
        "df_join.columns"
      ],
      "execution_count": 15,
      "outputs": [
        {
          "output_type": "execute_result",
          "data": {
            "text/plain": [
              "Index(['Animal ID', 'Name', 'DateTime', 'MonthYear', 'Found Location',\n",
              "       'Intake Type', 'Intake Condition', 'Animal Type', 'Sex upon Intake',\n",
              "       'Age upon Intake', 'Breed', 'Color', 'Date of Birth', 'Outcome Type',\n",
              "       'Outcome Subtype', 'Sex upon Outcome', 'Age upon Outcome',\n",
              "       'action_type'],\n",
              "      dtype='object')"
            ]
          },
          "metadata": {},
          "execution_count": 15
        }
      ]
    },
    {
      "cell_type": "code",
      "metadata": {
        "id": "_5FsALv5dDKA"
      },
      "source": [
        "df_join['DateTime'] = pd.to_datetime(df_join['DateTime']) # make sure DateTime is datetime"
      ],
      "execution_count": 16,
      "outputs": []
    },
    {
      "cell_type": "code",
      "metadata": {
        "id": "eP2flEjUdjId"
      },
      "source": [
        "df_join_sorted = df_join.sort_values(by = ['Animal ID', 'DateTime'])"
      ],
      "execution_count": 17,
      "outputs": []
    },
    {
      "cell_type": "markdown",
      "metadata": {
        "id": "EVYOj5mxer8J"
      },
      "source": [
        "# Step2:\n",
        "Window function：对同一只动物（Animal ID），内部sort Datatime\n",
        "有进有出的动物，则两相邻行的Datetime合为一行，其他列，用有数据的那行的数据\n",
        "最后行数应为13万到26万之间的一个行数，同一 e.g\n",
        "Animal ID，datetime_intake, datetime_outcome, xxx, xxx, xxx\n",
        "A12345,      08/09/2019      ,    09/09/2019         , aaa ,aa, aa\n",
        "A12345,      10/12/2019      ,    10/15/2019         , aaa ,aa, aa\n",
        "A23456,        05/04/2019,                                     , aaa, aa, aa\n",
        "\n",
        "\n"
      ]
    },
    {
      "cell_type": "code",
      "metadata": {
        "id": "BCovoZwjSXdF"
      },
      "source": [
        "df_join_sorted = df_join_sorted.reset_index(drop=True)"
      ],
      "execution_count": 18,
      "outputs": []
    },
    {
      "cell_type": "code",
      "metadata": {
        "id": "nQYYkd9JQ07O"
      },
      "source": [
        "prev = \"\"\n",
        "prevId = \"\"\n",
        "data_in_out = []\n",
        "data_row = []\n",
        "incolumns = ['Animal ID', 'Name', 'DateTime', 'Found Location',\n",
        "        'Intake Type', 'Intake Condition', 'Animal Type', 'Sex upon Intake',\n",
        "        'Age upon Intake', 'Breed', 'Color']\n",
        "\n",
        "outcolumns = ['DateTime', 'Date of Birth', 'Outcome Type',\n",
        "       'Outcome Subtype', 'Sex upon Outcome', 'Age upon Outcome']\n",
        "for idx, row in df_join_sorted.iterrows():\n",
        "  t, tid = row['action_type'], row['Animal ID']\n",
        "  if tid == prevId and t == \"outcome\" and prev == \"intake\":\n",
        "      # combine and append\n",
        "      data_row.extend(row[outcolumns].values.tolist())\n",
        "      data_in_out.append(data_row)\n",
        "      data_row = []\n",
        "  else:\n",
        "      if len(data_row) != 0:\n",
        "        if prev == \"intake\":\n",
        "          tmp = df_join_sorted.iloc[idx-1][outcolumns].values.tolist()\n",
        "          tmp[0] = np.nan\n",
        "          data_row.extend(tmp)\n",
        "        data_in_out.append(data_row)\n",
        "        data_row = []\n",
        "      \n",
        "      if t == \"intake\":\n",
        "        data_row = row[incolumns].values.tolist()\n",
        "      elif t == \"outcome\":\n",
        "        tmp = row[incolumns].values.tolist()\n",
        "        tmp[2] = np.nan\n",
        "        data_row = tmp\n",
        "        data_row.extend(row[outcolumns].values.tolist())\n",
        "        data_in_out.append(data_row)\n",
        "        data_row = []\n",
        "      # anyways, we need incolumns\n",
        "  prev, prevId = t, tid\n",
        "if len(data_row) != 0:\n",
        "  data_row.extend(df_join_sorted.iloc[-1][outcolumns].values.tolist())\n",
        "  data_in_out.append(data_row)\n",
        "\n",
        "df_in_out = pd.DataFrame(data_in_out, columns=['animal_id', 'name', 'intake_datetime', 'found_location',\n",
        "        'intake_type', 'intake_condition', 'animal_type', 'sex_upon_intake',\n",
        "        'age_upon_intake', 'breed', 'color','outcome_datetime', 'date_of_birth', 'outcome_type',\n",
        "       'outcome_subtype', 'sex_upon_outcome', 'age_upon_outcome'])"
      ],
      "execution_count": 19,
      "outputs": []
    },
    {
      "cell_type": "code",
      "metadata": {
        "id": "0_a3upyaY4xi"
      },
      "source": [
        "# df_in_out.to_csv(\"data/Austin_Animal_Center_Joined.csv\", index=False)"
      ],
      "execution_count": 20,
      "outputs": []
    },
    {
      "cell_type": "markdown",
      "metadata": {
        "id": "TAi6CSWAuNwb"
      },
      "source": [
        "# Data Clean"
      ]
    },
    {
      "cell_type": "code",
      "metadata": {
        "id": "KAtE6hBtjTty"
      },
      "source": [
        "df_join = pd.read_csv(\"../data/Austin_Animal_Center_Joined.csv\")"
      ],
      "execution_count": 21,
      "outputs": []
    },
    {
      "cell_type": "code",
      "metadata": {
        "colab": {
          "base_uri": "https://localhost:8080/",
          "height": 227
        },
        "id": "h7KWPoSXXd03",
        "outputId": "278fa663-9a4a-4281-9394-3cc2383e3af4"
      },
      "source": [
        "df_join.describe()"
      ],
      "execution_count": 22,
      "outputs": [
        {
          "output_type": "execute_result",
          "data": {
            "text/html": [
              "<div>\n",
              "<style scoped>\n",
              "    .dataframe tbody tr th:only-of-type {\n",
              "        vertical-align: middle;\n",
              "    }\n",
              "\n",
              "    .dataframe tbody tr th {\n",
              "        vertical-align: top;\n",
              "    }\n",
              "\n",
              "    .dataframe thead th {\n",
              "        text-align: right;\n",
              "    }\n",
              "</style>\n",
              "<table border=\"1\" class=\"dataframe\">\n",
              "  <thead>\n",
              "    <tr style=\"text-align: right;\">\n",
              "      <th></th>\n",
              "      <th>animal_id</th>\n",
              "      <th>name</th>\n",
              "      <th>intake_datetime</th>\n",
              "      <th>found_location</th>\n",
              "      <th>intake_type</th>\n",
              "      <th>intake_condition</th>\n",
              "      <th>animal_type</th>\n",
              "      <th>sex_upon_intake</th>\n",
              "      <th>age_upon_intake</th>\n",
              "      <th>breed</th>\n",
              "      <th>color</th>\n",
              "      <th>outcome_datetime</th>\n",
              "      <th>date_of_birth</th>\n",
              "      <th>outcome_type</th>\n",
              "      <th>outcome_subtype</th>\n",
              "      <th>sex_upon_outcome</th>\n",
              "      <th>age_upon_outcome</th>\n",
              "    </tr>\n",
              "  </thead>\n",
              "  <tbody>\n",
              "    <tr>\n",
              "      <th>count</th>\n",
              "      <td>134227</td>\n",
              "      <td>93225</td>\n",
              "      <td>132678</td>\n",
              "      <td>132678</td>\n",
              "      <td>132678</td>\n",
              "      <td>132678</td>\n",
              "      <td>134227</td>\n",
              "      <td>132677</td>\n",
              "      <td>132678</td>\n",
              "      <td>134227</td>\n",
              "      <td>134227</td>\n",
              "      <td>132733</td>\n",
              "      <td>132732</td>\n",
              "      <td>132707</td>\n",
              "      <td>60955</td>\n",
              "      <td>132731</td>\n",
              "      <td>132717</td>\n",
              "    </tr>\n",
              "    <tr>\n",
              "      <th>unique</th>\n",
              "      <td>119460</td>\n",
              "      <td>22148</td>\n",
              "      <td>93276</td>\n",
              "      <td>56368</td>\n",
              "      <td>6</td>\n",
              "      <td>15</td>\n",
              "      <td>5</td>\n",
              "      <td>5</td>\n",
              "      <td>52</td>\n",
              "      <td>2698</td>\n",
              "      <td>609</td>\n",
              "      <td>110115</td>\n",
              "      <td>7397</td>\n",
              "      <td>9</td>\n",
              "      <td>24</td>\n",
              "      <td>5</td>\n",
              "      <td>52</td>\n",
              "    </tr>\n",
              "    <tr>\n",
              "      <th>top</th>\n",
              "      <td>A721033</td>\n",
              "      <td>Max</td>\n",
              "      <td>2016-09-23 12:00:00</td>\n",
              "      <td>Austin (TX)</td>\n",
              "      <td>Stray</td>\n",
              "      <td>Normal</td>\n",
              "      <td>Dog</td>\n",
              "      <td>Intact Male</td>\n",
              "      <td>1 year</td>\n",
              "      <td>Domestic Shorthair Mix</td>\n",
              "      <td>Black/White</td>\n",
              "      <td>2016-04-18 00:00:00</td>\n",
              "      <td>04/21/2014</td>\n",
              "      <td>Adoption</td>\n",
              "      <td>Partner</td>\n",
              "      <td>Neutered Male</td>\n",
              "      <td>1 year</td>\n",
              "    </tr>\n",
              "    <tr>\n",
              "      <th>freq</th>\n",
              "      <td>33</td>\n",
              "      <td>604</td>\n",
              "      <td>64</td>\n",
              "      <td>24823</td>\n",
              "      <td>91756</td>\n",
              "      <td>114514</td>\n",
              "      <td>75255</td>\n",
              "      <td>43460</td>\n",
              "      <td>22805</td>\n",
              "      <td>32362</td>\n",
              "      <td>14027</td>\n",
              "      <td>39</td>\n",
              "      <td>117</td>\n",
              "      <td>60110</td>\n",
              "      <td>32595</td>\n",
              "      <td>46676</td>\n",
              "      <td>23162</td>\n",
              "    </tr>\n",
              "  </tbody>\n",
              "</table>\n",
              "</div>"
            ],
            "text/plain": [
              "       animal_id   name  ... sex_upon_outcome age_upon_outcome\n",
              "count     134227  93225  ...           132731           132717\n",
              "unique    119460  22148  ...                5               52\n",
              "top      A721033    Max  ...    Neutered Male           1 year\n",
              "freq          33    604  ...            46676            23162\n",
              "\n",
              "[4 rows x 17 columns]"
            ]
          },
          "metadata": {},
          "execution_count": 22
        }
      ]
    },
    {
      "cell_type": "code",
      "metadata": {
        "colab": {
          "base_uri": "https://localhost:8080/"
        },
        "id": "ZJXkSSS6Ap2b",
        "outputId": "5e3ef0f3-3cd4-41bc-f528-957e9479877d"
      },
      "source": [
        "df_join.apply(lambda x: sum(x.isnull()/len(df_join)))"
      ],
      "execution_count": 23,
      "outputs": [
        {
          "output_type": "execute_result",
          "data": {
            "text/plain": [
              "animal_id           0.000000\n",
              "name                0.305468\n",
              "intake_datetime     0.011540\n",
              "found_location      0.011540\n",
              "intake_type         0.011540\n",
              "intake_condition    0.011540\n",
              "animal_type         0.000000\n",
              "sex_upon_intake     0.011548\n",
              "age_upon_intake     0.011540\n",
              "breed               0.000000\n",
              "color               0.000000\n",
              "outcome_datetime    0.011130\n",
              "date_of_birth       0.011138\n",
              "outcome_type        0.011324\n",
              "outcome_subtype     0.545881\n",
              "sex_upon_outcome    0.011145\n",
              "age_upon_outcome    0.011250\n",
              "dtype: float64"
            ]
          },
          "metadata": {},
          "execution_count": 23
        }
      ]
    },
    {
      "cell_type": "code",
      "metadata": {
        "id": "JltmTz6LcBgF"
      },
      "source": [
        "df_clean = df_join[(~df_join.sex_upon_intake.isnull()) | (~df_join.intake_datetime.isnull())]"
      ],
      "execution_count": 24,
      "outputs": []
    },
    {
      "cell_type": "code",
      "metadata": {
        "colab": {
          "base_uri": "https://localhost:8080/"
        },
        "id": "o3qtplYTcRnz",
        "outputId": "397f6625-a94f-442d-f8fd-05ab506dc320"
      },
      "source": [
        "df_clean.apply(lambda x: sum(x.isnull()/len(df_clean)))"
      ],
      "execution_count": 25,
      "outputs": [
        {
          "output_type": "execute_result",
          "data": {
            "text/plain": [
              "animal_id           0.000000\n",
              "name                0.305145\n",
              "intake_datetime     0.000000\n",
              "found_location      0.000000\n",
              "intake_type         0.000000\n",
              "intake_condition    0.000000\n",
              "animal_type         0.000000\n",
              "sex_upon_intake     0.000008\n",
              "age_upon_intake     0.000000\n",
              "breed               0.000000\n",
              "color               0.000000\n",
              "outcome_datetime    0.011260\n",
              "date_of_birth       0.011268\n",
              "outcome_type        0.011441\n",
              "outcome_subtype     0.548154\n",
              "sex_upon_outcome    0.011275\n",
              "age_upon_outcome    0.011381\n",
              "dtype: float64"
            ]
          },
          "metadata": {},
          "execution_count": 25
        }
      ]
    },
    {
      "cell_type": "code",
      "metadata": {
        "colab": {
          "base_uri": "https://localhost:8080/"
        },
        "id": "C5cunLw9cULA",
        "outputId": "6bf4dfde-5fbe-45ff-ad6d-8298c605396c"
      },
      "source": [
        "df_clean['intake_datetime'] = pd.to_datetime(df_clean['intake_datetime'])\n",
        "df_clean['outcome_datetime'] = pd.to_datetime(df_clean['outcome_datetime'])\n",
        "df_clean['date_of_birth'] = pd.to_datetime(df_clean['date_of_birth'])"
      ],
      "execution_count": 26,
      "outputs": [
        {
          "output_type": "stream",
          "name": "stderr",
          "text": [
            "/usr/local/lib/python3.7/dist-packages/ipykernel_launcher.py:1: SettingWithCopyWarning: \n",
            "A value is trying to be set on a copy of a slice from a DataFrame.\n",
            "Try using .loc[row_indexer,col_indexer] = value instead\n",
            "\n",
            "See the caveats in the documentation: https://pandas.pydata.org/pandas-docs/stable/user_guide/indexing.html#returning-a-view-versus-a-copy\n",
            "  \"\"\"Entry point for launching an IPython kernel.\n",
            "/usr/local/lib/python3.7/dist-packages/ipykernel_launcher.py:2: SettingWithCopyWarning: \n",
            "A value is trying to be set on a copy of a slice from a DataFrame.\n",
            "Try using .loc[row_indexer,col_indexer] = value instead\n",
            "\n",
            "See the caveats in the documentation: https://pandas.pydata.org/pandas-docs/stable/user_guide/indexing.html#returning-a-view-versus-a-copy\n",
            "  \n",
            "/usr/local/lib/python3.7/dist-packages/ipykernel_launcher.py:3: SettingWithCopyWarning: \n",
            "A value is trying to be set on a copy of a slice from a DataFrame.\n",
            "Try using .loc[row_indexer,col_indexer] = value instead\n",
            "\n",
            "See the caveats in the documentation: https://pandas.pydata.org/pandas-docs/stable/user_guide/indexing.html#returning-a-view-versus-a-copy\n",
            "  This is separate from the ipykernel package so we can avoid doing imports until\n"
          ]
        }
      ]
    },
    {
      "cell_type": "code",
      "metadata": {
        "id": "Qg88oI3w_9gN"
      },
      "source": [
        "df_clean.loc[df_clean['name'].isnull(), \"has_name\"] = 0\n",
        "df_clean.loc[df_clean['name'] == df_clean['animal_id'], \"has_name\"] = 0\n",
        "df_clean.loc[~df_clean['name'].isnull(), \"has_name\"] = 1"
      ],
      "execution_count": 32,
      "outputs": []
    },
    {
      "cell_type": "code",
      "metadata": {
        "id": "WSIunfx_-9vY"
      },
      "source": [
        "def getBirthSex(sex_upon_intake):\n",
        "  sex_upon_intake = str(sex_upon_intake)\n",
        "  if \"Male\" in sex_upon_intake:\n",
        "    return \"Male\"\n",
        "  elif \"Female\" in sex_upon_intake:\n",
        "    return \"Female\"\n",
        "  return np.nan\n",
        "\n",
        "def isPureColor(color):\n",
        "  color = str(color)\n",
        "  if color != \"nan\":\n",
        "    color_list = color.split(\"/\")\n",
        "    if \"Tricolor\" in color_list:\n",
        "      return 0\n",
        "    if len(color_list) > 1:\n",
        "      return 0\n",
        "    else:\n",
        "      return 1\n",
        "  else:\n",
        "    return np.nan\n",
        "\n",
        "\n",
        "def sex_changed(sex_upon_outcome):\n",
        "  sex = str(sex_upon_outcome).lower()\n",
        "  if (\"spayed\" in sex) or (\"neutered\" in sex):\n",
        "    return 1\n",
        "  elif (\"unknown\" in sex) or (\"nan\" in sex):\n",
        "    return np.nan\n",
        "  return 0\n",
        "\n",
        "\n",
        "df_clean['age_upon_intake_day'] = (df_clean['intake_datetime'] - df_clean['date_of_birth']).dt.days\n",
        "df_clean['age_upon_outcome_day'] = (df_clean['outcome_datetime'] - df_clean['date_of_birth']).dt.days\n",
        "# 168 rows having negatives\n",
        "df_clean = df_clean[(df_clean.age_upon_intake_day >=0) | (df_clean.age_upon_intake_day.isnull()) ]\n",
        "df_clean = df_clean[(df_clean.age_upon_outcome_day >=0) | (df_clean.age_upon_outcome_day.isnull()) ]\n",
        "df_clean['birth_sex'] = df_clean.sex_upon_intake.apply(getBirthSex)\n",
        "df_clean['pure_color'] = df_clean.color.apply(isPureColor)\n",
        "df_clean['sex_changed'] = df_clean.sex_upon_outcome.apply(sex_changed)"
      ],
      "execution_count": 33,
      "outputs": []
    },
    {
      "cell_type": "code",
      "metadata": {
        "colab": {
          "base_uri": "https://localhost:8080/",
          "height": 297
        },
        "id": "inCBkivWc6_R",
        "outputId": "9f1125fe-447d-47b0-9ce6-f115d7680481"
      },
      "source": [
        "df_clean.describe()"
      ],
      "execution_count": 29,
      "outputs": [
        {
          "output_type": "execute_result",
          "data": {
            "text/html": [
              "<div>\n",
              "<style scoped>\n",
              "    .dataframe tbody tr th:only-of-type {\n",
              "        vertical-align: middle;\n",
              "    }\n",
              "\n",
              "    .dataframe tbody tr th {\n",
              "        vertical-align: top;\n",
              "    }\n",
              "\n",
              "    .dataframe thead th {\n",
              "        text-align: right;\n",
              "    }\n",
              "</style>\n",
              "<table border=\"1\" class=\"dataframe\">\n",
              "  <thead>\n",
              "    <tr style=\"text-align: right;\">\n",
              "      <th></th>\n",
              "      <th>has_name</th>\n",
              "      <th>age_upon_intake_day</th>\n",
              "      <th>age_upon_outcome_day</th>\n",
              "      <th>pure_color</th>\n",
              "      <th>sex_changed</th>\n",
              "    </tr>\n",
              "  </thead>\n",
              "  <tbody>\n",
              "    <tr>\n",
              "      <th>count</th>\n",
              "      <td>132508.000000</td>\n",
              "      <td>131013.000000</td>\n",
              "      <td>131013.000000</td>\n",
              "      <td>132508.000000</td>\n",
              "      <td>120537.000000</td>\n",
              "    </tr>\n",
              "    <tr>\n",
              "      <th>mean</th>\n",
              "      <td>0.695113</td>\n",
              "      <td>780.936220</td>\n",
              "      <td>799.744766</td>\n",
              "      <td>0.445317</td>\n",
              "      <td>0.382920</td>\n",
              "    </tr>\n",
              "    <tr>\n",
              "      <th>std</th>\n",
              "      <td>0.460361</td>\n",
              "      <td>1069.276596</td>\n",
              "      <td>1072.163480</td>\n",
              "      <td>0.497003</td>\n",
              "      <td>0.486101</td>\n",
              "    </tr>\n",
              "    <tr>\n",
              "      <th>min</th>\n",
              "      <td>0.000000</td>\n",
              "      <td>0.000000</td>\n",
              "      <td>0.000000</td>\n",
              "      <td>0.000000</td>\n",
              "      <td>0.000000</td>\n",
              "    </tr>\n",
              "    <tr>\n",
              "      <th>25%</th>\n",
              "      <td>0.000000</td>\n",
              "      <td>74.000000</td>\n",
              "      <td>94.000000</td>\n",
              "      <td>0.000000</td>\n",
              "      <td>0.000000</td>\n",
              "    </tr>\n",
              "    <tr>\n",
              "      <th>50%</th>\n",
              "      <td>1.000000</td>\n",
              "      <td>365.000000</td>\n",
              "      <td>370.000000</td>\n",
              "      <td>0.000000</td>\n",
              "      <td>0.000000</td>\n",
              "    </tr>\n",
              "    <tr>\n",
              "      <th>75%</th>\n",
              "      <td>1.000000</td>\n",
              "      <td>904.000000</td>\n",
              "      <td>923.000000</td>\n",
              "      <td>1.000000</td>\n",
              "      <td>1.000000</td>\n",
              "    </tr>\n",
              "    <tr>\n",
              "      <th>max</th>\n",
              "      <td>1.000000</td>\n",
              "      <td>9132.000000</td>\n",
              "      <td>9137.000000</td>\n",
              "      <td>1.000000</td>\n",
              "      <td>1.000000</td>\n",
              "    </tr>\n",
              "  </tbody>\n",
              "</table>\n",
              "</div>"
            ],
            "text/plain": [
              "            has_name  age_upon_intake_day  ...     pure_color    sex_changed\n",
              "count  132508.000000        131013.000000  ...  132508.000000  120537.000000\n",
              "mean        0.695113           780.936220  ...       0.445317       0.382920\n",
              "std         0.460361          1069.276596  ...       0.497003       0.486101\n",
              "min         0.000000             0.000000  ...       0.000000       0.000000\n",
              "25%         0.000000            74.000000  ...       0.000000       0.000000\n",
              "50%         1.000000           365.000000  ...       0.000000       0.000000\n",
              "75%         1.000000           904.000000  ...       1.000000       1.000000\n",
              "max         1.000000          9132.000000  ...       1.000000       1.000000\n",
              "\n",
              "[8 rows x 5 columns]"
            ]
          },
          "metadata": {},
          "execution_count": 29
        }
      ]
    },
    {
      "cell_type": "code",
      "metadata": {
        "colab": {
          "base_uri": "https://localhost:8080/"
        },
        "id": "xsHyjqqvc99o",
        "outputId": "de570b9f-cf35-4dfe-f48e-a3fffd5a30b3"
      },
      "source": [
        "df_clean.apply(lambda x: sum(x.isnull()/len(df_clean)))"
      ],
      "execution_count": 30,
      "outputs": [
        {
          "output_type": "execute_result",
          "data": {
            "text/plain": [
              "animal_id               0.000000\n",
              "name                    0.304887\n",
              "intake_datetime         0.000000\n",
              "found_location          0.000000\n",
              "intake_type             0.000000\n",
              "intake_condition        0.000000\n",
              "animal_type             0.000000\n",
              "sex_upon_intake         0.000008\n",
              "age_upon_intake         0.000000\n",
              "breed                   0.000000\n",
              "color                   0.000000\n",
              "outcome_datetime        0.011275\n",
              "date_of_birth           0.011282\n",
              "outcome_type            0.011456\n",
              "outcome_subtype         0.548390\n",
              "sex_upon_outcome        0.011290\n",
              "age_upon_outcome        0.011396\n",
              "has_name                0.000000\n",
              "age_upon_intake_day     0.011282\n",
              "age_upon_outcome_day    0.011282\n",
              "birth_sex               0.080833\n",
              "pure_color              0.000000\n",
              "sex_changed             0.090342\n",
              "dtype: float64"
            ]
          },
          "metadata": {},
          "execution_count": 30
        }
      ]
    },
    {
      "cell_type": "code",
      "metadata": {
        "id": "bVvlQkSGEyOB"
      },
      "source": [
        "df_clean['intake_times'] = 0\n",
        "df_clean['intake_times'] = df_clean.sort_values(['animal_id','intake_datetime'], ascending=[True,True]) \\\n",
        "             .groupby(['animal_id']) \\\n",
        "             .cumcount() + 1"
      ],
      "execution_count": 34,
      "outputs": []
    },
    {
      "cell_type": "code",
      "metadata": {
        "colab": {
          "base_uri": "https://localhost:8080/",
          "height": 326
        },
        "id": "TSHI-nTHd2fw",
        "outputId": "c922edd6-9692-4440-83b7-419d2cc29b81"
      },
      "source": [
        "df_clean.head()"
      ],
      "execution_count": 35,
      "outputs": [
        {
          "output_type": "execute_result",
          "data": {
            "text/html": [
              "<div>\n",
              "<style scoped>\n",
              "    .dataframe tbody tr th:only-of-type {\n",
              "        vertical-align: middle;\n",
              "    }\n",
              "\n",
              "    .dataframe tbody tr th {\n",
              "        vertical-align: top;\n",
              "    }\n",
              "\n",
              "    .dataframe thead th {\n",
              "        text-align: right;\n",
              "    }\n",
              "</style>\n",
              "<table border=\"1\" class=\"dataframe\">\n",
              "  <thead>\n",
              "    <tr style=\"text-align: right;\">\n",
              "      <th></th>\n",
              "      <th>animal_id</th>\n",
              "      <th>name</th>\n",
              "      <th>intake_datetime</th>\n",
              "      <th>found_location</th>\n",
              "      <th>intake_type</th>\n",
              "      <th>intake_condition</th>\n",
              "      <th>animal_type</th>\n",
              "      <th>sex_upon_intake</th>\n",
              "      <th>age_upon_intake</th>\n",
              "      <th>breed</th>\n",
              "      <th>color</th>\n",
              "      <th>outcome_datetime</th>\n",
              "      <th>date_of_birth</th>\n",
              "      <th>outcome_type</th>\n",
              "      <th>outcome_subtype</th>\n",
              "      <th>sex_upon_outcome</th>\n",
              "      <th>age_upon_outcome</th>\n",
              "      <th>has_name</th>\n",
              "      <th>age_upon_intake_day</th>\n",
              "      <th>age_upon_outcome_day</th>\n",
              "      <th>birth_sex</th>\n",
              "      <th>pure_color</th>\n",
              "      <th>sex_changed</th>\n",
              "      <th>intake_times</th>\n",
              "    </tr>\n",
              "  </thead>\n",
              "  <tbody>\n",
              "    <tr>\n",
              "      <th>0</th>\n",
              "      <td>A006100</td>\n",
              "      <td>Scamp</td>\n",
              "      <td>2014-03-07 14:26:00</td>\n",
              "      <td>8700 Research in Austin (TX)</td>\n",
              "      <td>Public Assist</td>\n",
              "      <td>Normal</td>\n",
              "      <td>Dog</td>\n",
              "      <td>Neutered Male</td>\n",
              "      <td>6 years</td>\n",
              "      <td>Spinone Italiano Mix</td>\n",
              "      <td>Yellow/White</td>\n",
              "      <td>2014-03-08 17:10:00</td>\n",
              "      <td>2007-07-09</td>\n",
              "      <td>Return to Owner</td>\n",
              "      <td>NaN</td>\n",
              "      <td>Neutered Male</td>\n",
              "      <td>6 years</td>\n",
              "      <td>1.0</td>\n",
              "      <td>2433.0</td>\n",
              "      <td>2434.0</td>\n",
              "      <td>Male</td>\n",
              "      <td>0</td>\n",
              "      <td>1.0</td>\n",
              "      <td>1</td>\n",
              "    </tr>\n",
              "    <tr>\n",
              "      <th>1</th>\n",
              "      <td>A006100</td>\n",
              "      <td>Scamp</td>\n",
              "      <td>2014-12-19 10:21:00</td>\n",
              "      <td>8700 Research Blvd in Austin (TX)</td>\n",
              "      <td>Public Assist</td>\n",
              "      <td>Normal</td>\n",
              "      <td>Dog</td>\n",
              "      <td>Neutered Male</td>\n",
              "      <td>7 years</td>\n",
              "      <td>Spinone Italiano Mix</td>\n",
              "      <td>Yellow/White</td>\n",
              "      <td>2014-12-20 16:35:00</td>\n",
              "      <td>2007-07-09</td>\n",
              "      <td>Return to Owner</td>\n",
              "      <td>NaN</td>\n",
              "      <td>Neutered Male</td>\n",
              "      <td>7 years</td>\n",
              "      <td>1.0</td>\n",
              "      <td>2720.0</td>\n",
              "      <td>2721.0</td>\n",
              "      <td>Male</td>\n",
              "      <td>0</td>\n",
              "      <td>1.0</td>\n",
              "      <td>2</td>\n",
              "    </tr>\n",
              "    <tr>\n",
              "      <th>3</th>\n",
              "      <td>A006100</td>\n",
              "      <td>Scamp</td>\n",
              "      <td>2017-12-07 14:07:00</td>\n",
              "      <td>Colony Creek And Hunters Trace in Austin (TX)</td>\n",
              "      <td>Stray</td>\n",
              "      <td>Normal</td>\n",
              "      <td>Dog</td>\n",
              "      <td>Neutered Male</td>\n",
              "      <td>10 years</td>\n",
              "      <td>Spinone Italiano Mix</td>\n",
              "      <td>Yellow/White</td>\n",
              "      <td>NaT</td>\n",
              "      <td>NaT</td>\n",
              "      <td>NaN</td>\n",
              "      <td>NaN</td>\n",
              "      <td>NaN</td>\n",
              "      <td>NaN</td>\n",
              "      <td>1.0</td>\n",
              "      <td>NaN</td>\n",
              "      <td>NaN</td>\n",
              "      <td>Male</td>\n",
              "      <td>0</td>\n",
              "      <td>NaN</td>\n",
              "      <td>3</td>\n",
              "    </tr>\n",
              "    <tr>\n",
              "      <th>4</th>\n",
              "      <td>A047759</td>\n",
              "      <td>Oreo</td>\n",
              "      <td>2014-04-02 15:55:00</td>\n",
              "      <td>Austin (TX)</td>\n",
              "      <td>Owner Surrender</td>\n",
              "      <td>Normal</td>\n",
              "      <td>Dog</td>\n",
              "      <td>Neutered Male</td>\n",
              "      <td>10 years</td>\n",
              "      <td>Dachshund</td>\n",
              "      <td>Tricolor</td>\n",
              "      <td>2014-04-07 15:12:00</td>\n",
              "      <td>2004-04-02</td>\n",
              "      <td>Transfer</td>\n",
              "      <td>Partner</td>\n",
              "      <td>Neutered Male</td>\n",
              "      <td>10 years</td>\n",
              "      <td>1.0</td>\n",
              "      <td>3652.0</td>\n",
              "      <td>3657.0</td>\n",
              "      <td>Male</td>\n",
              "      <td>0</td>\n",
              "      <td>1.0</td>\n",
              "      <td>1</td>\n",
              "    </tr>\n",
              "    <tr>\n",
              "      <th>5</th>\n",
              "      <td>A134067</td>\n",
              "      <td>Bandit</td>\n",
              "      <td>2013-11-16 09:02:00</td>\n",
              "      <td>12034 Research Blvd in Austin (TX)</td>\n",
              "      <td>Public Assist</td>\n",
              "      <td>Injured</td>\n",
              "      <td>Dog</td>\n",
              "      <td>Neutered Male</td>\n",
              "      <td>16 years</td>\n",
              "      <td>Shetland Sheepdog</td>\n",
              "      <td>Brown/White</td>\n",
              "      <td>2013-11-16 11:54:00</td>\n",
              "      <td>1997-10-16</td>\n",
              "      <td>Return to Owner</td>\n",
              "      <td>NaN</td>\n",
              "      <td>Neutered Male</td>\n",
              "      <td>16 years</td>\n",
              "      <td>1.0</td>\n",
              "      <td>5875.0</td>\n",
              "      <td>5875.0</td>\n",
              "      <td>Male</td>\n",
              "      <td>0</td>\n",
              "      <td>1.0</td>\n",
              "      <td>1</td>\n",
              "    </tr>\n",
              "  </tbody>\n",
              "</table>\n",
              "</div>"
            ],
            "text/plain": [
              "  animal_id    name     intake_datetime  ... pure_color sex_changed intake_times\n",
              "0   A006100   Scamp 2014-03-07 14:26:00  ...          0         1.0            1\n",
              "1   A006100   Scamp 2014-12-19 10:21:00  ...          0         1.0            2\n",
              "3   A006100   Scamp 2017-12-07 14:07:00  ...          0         NaN            3\n",
              "4   A047759    Oreo 2014-04-02 15:55:00  ...          0         1.0            1\n",
              "5   A134067  Bandit 2013-11-16 09:02:00  ...          0         1.0            1\n",
              "\n",
              "[5 rows x 24 columns]"
            ]
          },
          "metadata": {},
          "execution_count": 35
        }
      ]
    },
    {
      "cell_type": "code",
      "metadata": {
        "colab": {
          "base_uri": "https://localhost:8080/"
        },
        "id": "gFmYwXo7d4TG",
        "outputId": "a539c202-46c5-45cb-f8c5-0448adacf5f3"
      },
      "source": [
        "df_clean.shape"
      ],
      "execution_count": 36,
      "outputs": [
        {
          "output_type": "execute_result",
          "data": {
            "text/plain": [
              "(132508, 24)"
            ]
          },
          "metadata": {},
          "execution_count": 36
        }
      ]
    },
    {
      "cell_type": "code",
      "metadata": {
        "id": "61DRmC1TeFpa"
      },
      "source": [
        "df_clean.to_csv(\"../data/Austin_Animal_Center_Cleaned.csv\", index=False)"
      ],
      "execution_count": 37,
      "outputs": []
    }
  ]
}
